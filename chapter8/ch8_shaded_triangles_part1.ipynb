{
 "cells": [
  {
   "cell_type": "markdown",
   "id": "6ace5acc",
   "metadata": {},
   "source": [
    "# 8. Shaded Triangles\n",
    "\n",
    "이전 챕터에서 우리는 단색으로 채워진 삼각형을 그리는 알고리즘을 작성했다. 이번 단원에서는 그림자가 진 삼각형을 그리는 것이 목표이다."
   ]
  },
  {
   "cell_type": "markdown",
   "id": "f5cedc6f",
   "metadata": {},
   "source": [
    "## Defining Our Problem\n",
    "\n",
    "![8_1](https://user-images.githubusercontent.com/74246766/142759901-cdc0eeab-ae2b-4227-add4-91ee7fab65d3.PNG)\n",
    "\n",
    "우리가 원하는 그림은 위와 같은 그림이다. 이를 그리기 위해서 우리는 추가로 공식적인 정의를 알아야 한다.\n",
    "\n",
    "<br></br>\n",
    "$C : [0, 255, 0]$ 라는 값을 가지는 녹색이 있다고 하자. 우리는 이 색의 각 점에 실수 $h$를 적용할 것이다. 이 때 이 $h$는 지점에서의 색상의 강도가 된다.\n",
    "\n",
    "<br></br>\n",
    "$h$의 범위는 [0.0, 1.0]가 된다. 0.0이라면 그곳은 가능한 가장 어두운 곳인 검은색인 것이고 1.0이라면 그곳은 가능한 한 가장 밝은 색을 지녀 원색에 가장 가깝게 되는 것이다.(흰색이 되는 것이 아니다.)\n",
    "\n",
    "그림자를 각 픽셀마다 계산하는 방법은 $C$에 $h$를 곱하는 것이다. 즉, $$C_h = (R_C * h, G_C * h, B_C * h)$$ 과 같다.\n",
    "\n",
    "위 공식에 따라 $h=0.0$이면 검은색, $h=1.0$이면 원색 $h=0.5$이면 그 사이 정도로 어두워지는 것이다."
   ]
  },
  {
   "cell_type": "code",
   "execution_count": 10,
   "id": "19ce5948",
   "metadata": {},
   "outputs": [],
   "source": [
    "import numpy as np\n",
    "import math\n",
    "import cv2\n",
    "import matplotlib.pyplot as plt\n",
    "\n",
    "class Point:\n",
    "    def __init__(self, x, y, h=1.0, color=[255,255,255]):\n",
    "        self.x = x\n",
    "        self.y = y\n",
    "        self.h = h\n",
    "        self.color = color\n",
    "\n",
    "class Canvas:\n",
    "    def __init__(self,\n",
    "                 width=600, \n",
    "                 height=600):\n",
    "        self.width = width\n",
    "        self.height = height\n",
    "        \n",
    "        self.img = np.zeros((width,height,3), dtype = np.uint8) + 255\n",
    "        \n",
    "    def put_pixel(self, x, y, color,line_width):\n",
    "        x = self.width/2 + x\n",
    "        y = self.height/2 - y -1\n",
    "        if (x< 0 or x >= self.width or y < 0 or y >= self.height):\n",
    "            return \n",
    "        R = int(color[0])\n",
    "        G = int(color[1])\n",
    "        B = int(color[2])\n",
    "        cv2.line(self.img, (int(x), int(y)), (int(x), int(y)), (R,G,B),line_width)\n",
    "        \n",
    "    def interpolate(self, i0, d0,i1, d1):\n",
    "        if i0==i1:\n",
    "            return [d0]\n",
    "        else:\n",
    "            values = []\n",
    "            \n",
    "            a = (d1-d0) / (i1 - i0)\n",
    "            d = d0\n",
    "            \n",
    "            for i in range(i1 - i0+1):\n",
    "                values.append(d)\n",
    "                d += a\n",
    "            return values\n",
    "        \n",
    "    def draw_line(self, p0, p1, color, line_width):\n",
    "        if np.abs(p0.x - p1.x) > abs(p0.y - p1.y):\n",
    "            # line is horizontal-ish\n",
    "            if p0.x > p1.x:\n",
    "                p0, p1 = p1, p0\n",
    "            \n",
    "            ys = self.interpolate(p0.x,p0.y,p1.x,p1.y)\n",
    "\n",
    "            for i in range(p1.x-p0.x+1):\n",
    "                self.put_pixel(i+p0.x,ys[i],color,line_width)\n",
    "                    \n",
    "        else:\n",
    "            # line is vertical-ish\n",
    "                        # line is horizontal-ish\n",
    "            if p0.y > p1.y:\n",
    "                p0, p1 = p1, p0\n",
    "            \n",
    "            xs = self.interpolate(p0.y,p0.x,p1.y,p1.x)\n",
    "            for i in range(p1.y-p0.y+1):\n",
    "                self.put_pixel(xs[i], i+p0.y, color, line_width)\n",
    "                \n",
    "    def draw_wireframe_triangle(self, p0, p1, p2, color, line_width):\n",
    "        self.draw_line(p0, p1, color, line_width)\n",
    "        self.draw_line(p1, p2, color, line_width)\n",
    "        self.draw_line(p2, p0, color, line_width)\n",
    "    \n",
    "    def draw_filled_trangle(self, p0, p1, p2, color, line_width=1):\n",
    "        if p1.y < p0.y:\n",
    "            p0, p1 = p1, p0\n",
    "        if p2.y < p0.y:\n",
    "            p0, p2 = p2, p0\n",
    "        if p2.y < p1.y:\n",
    "            p2, p1 = p1, p2\n",
    "            \n",
    "        x01 = self.interpolate(p0.y, p0.x, p1.y, p1.x)\n",
    "        x12 = self.interpolate(p1.y, p1.x, p2.y, p2.x)\n",
    "        x02 = self.interpolate(p0.y, p0.x, p2.y, p2.x)\n",
    "        \n",
    "        x01.pop(-1)\n",
    "        x012 = x01 + x12\n",
    "        \n",
    "        m = math.floor(len(x02) / 2)\n",
    "        \n",
    "        if x02[m] < x012[m]:\n",
    "            x_left = x02\n",
    "            x_right = x012\n",
    "        else:\n",
    "            x_left = x012\n",
    "            x_right = x02\n",
    "        \n",
    "        for y in range(p0.y, p2.y + 1):\n",
    "            for x in range(math.floor(x_left[y - p0.y]), math.floor(x_right[y - p0.y])+1):\n",
    "                self.put_pixel(x, y, color, line_width)\n",
    "                \n",
    "    def draw_shaded_triangle(self, p0, p1, p2, color, line_width=1):\n",
    "        if p1.y < p0.y:\n",
    "            p0, p1 = p1, p0\n",
    "        if p2.y < p0.y:\n",
    "            p0, p2 = p2, p0\n",
    "        if p2.y < p1.y:\n",
    "            p2, p1 = p1, p2\n",
    "            \n",
    "        x01 = self.interpolate(p0.y, p0.x, p1.y, p1.x)\n",
    "        h01 = self.interpolate(p0.y, p0.h, p1.y, p1.h)\n",
    "        \n",
    "        x12 = self.interpolate(p1.y, p1.x, p2.y, p2.x)\n",
    "        h12 = self.interpolate(p1.y, p1.h, p2.y, p2.h)\n",
    "        \n",
    "        x02 = self.interpolate(p0.y, p0.x, p2.y, p2.x)\n",
    "        h02 = self.interpolate(p0.y, p0.h, p2.y, p2.h)\n",
    "        \n",
    "        x01.pop(-1)\n",
    "        x012 = x01 + x12\n",
    "        \n",
    "        h01.pop(-1)\n",
    "        h012 = h01 + h12\n",
    "        \n",
    "        m = math.floor(len(x02) / 2)\n",
    "        \n",
    "        if x02[m] < x012[m]:\n",
    "            x_left = x02\n",
    "            h_left = h02\n",
    "            \n",
    "            x_right = x012\n",
    "            h_right = h012\n",
    "        else:\n",
    "            x_left = x012\n",
    "            h_left = h012\n",
    "            \n",
    "            x_right = x02\n",
    "            h_right = h02\n",
    "        \n",
    "        for y in range(p0.y, p2.y + 1):\n",
    "            xl = math.floor(x_left[y - p0.y])\n",
    "            xr = math.floor(x_right[y - p0.y])\n",
    "            h_segment = self.interpolate(xl, h_left[y - p0.y], xr, h_right[y - p0.y])\n",
    "            for x in range(xl, xr + 1):\n",
    "                self.put_pixel(x, y, np.dot(h_segment[x - xl], color), line_width)"
   ]
  },
  {
   "cell_type": "code",
   "execution_count": 11,
   "id": "364757ce",
   "metadata": {},
   "outputs": [
    {
     "data": {
      "text/plain": [
       "<matplotlib.image.AxesImage at 0x16dd91a8640>"
      ]
     },
     "execution_count": 11,
     "metadata": {},
     "output_type": "execute_result"
    },
    {
     "data": {
      "image/png": "[encoded data removed]",
      "text/plain": [
       "<Figure size 432x288 with 1 Axes>"
      ]
     },
     "metadata": {
      "needs_background": "light"
     },
     "output_type": "display_data"
    }
   ],
   "source": [
    "canvas1 = Canvas(600,600)\n",
    "point5 = Point(-200, -250)\n",
    "point6 = Point(200, 50)\n",
    "point7 = Point(20, 250)\n",
    "\n",
    "canvas1.draw_wireframe_triangle(point5, point6, point7, [0,0,0], 2)\n",
    "canvas1.draw_filled_trangle(point5, point6, point7, [0,255,0], 1)\n",
    "\n",
    "plt.imshow(canvas1.img)"
   ]
  },
  {
   "cell_type": "code",
   "execution_count": 12,
   "id": "cfcfe366",
   "metadata": {},
   "outputs": [
    {
     "data": {
      "text/plain": [
       "<matplotlib.image.AxesImage at 0x16dd897f640>"
      ]
     },
     "execution_count": 12,
     "metadata": {},
     "output_type": "execute_result"
    },
    {
     "data": {
      "image/png": "[encoded data removed]",
      "text/plain": [
       "<Figure size 432x288 with 1 Axes>"
      ]
     },
     "metadata": {
      "needs_background": "light"
     },
     "output_type": "display_data"
    }
   ],
   "source": [
    "canvas2 = Canvas(600,600)\n",
    "point5 = Point(-200, -250, 0.3)\n",
    "point6 = Point(200, 50, 0.1)\n",
    "point7 = Point(20, 250, 1.0)\n",
    "\n",
    "canvas2.draw_wireframe_triangle(point5, point6, point7, [0,0,0], 2)\n",
    "canvas2.draw_shaded_triangle(point5, point6, point7, [0,255,0], 1)\n",
    "\n",
    "plt.imshow(canvas2.img)"
   ]
  }
 ],
 "metadata": {
  "kernelspec": {
   "display_name": "Python 3",
   "language": "python",
   "name": "python3"
  },
  "language_info": {
   "codemirror_mode": {
    "name": "ipython",
    "version": 3
   },
   "file_extension": ".py",
   "mimetype": "text/x-python",
   "name": "python",
   "nbconvert_exporter": "python",
   "pygments_lexer": "ipython3",
   "version": "3.8.8"
  }
 },
 "nbformat": 4,
 "nbformat_minor": 5
}
