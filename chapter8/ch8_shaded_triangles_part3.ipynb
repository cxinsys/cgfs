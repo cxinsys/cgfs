{
 "cells": [
  {
   "cell_type": "markdown",
   "id": "ea973585",
   "metadata": {},
   "source": [
    "## Computing Interior Shading"
   ]
  },
  {
   "cell_type": "markdown",
   "id": "48c935ba",
   "metadata": {},
   "source": [
    "각 층의 y별로, x의 왼쪽 점과 x의 오른 쪽 점의 좌표를 독립 변수로 놓고,\n",
    "\n",
    "h값이 선형적으로 변한다는 정보를 기반으로 \n",
    "\n",
    "interpolate해서 각각 중간의 점들의 h값을 얻습니다."
   ]
  },
  {
   "cell_type": "code",
   "execution_count": null,
   "id": "c6139166",
   "metadata": {},
   "outputs": [],
   "source": [
    "x_left_this_y = x_left[y - y0]\n",
    "h_left_this_y = h_left[y - y0]\n",
    "\n",
    "x_right_this_y = x_right[y - y0]\n",
    "h_right_this_y = h_right[y - y0]\n",
    "\n",
    "h_segment = Interpolate(x_left_this_y, h_left_this_y,\n",
    "x_right_this_y, h_right_this_y)"
   ]
  },
  {
   "cell_type": "markdown",
   "id": "41943588",
   "metadata": {},
   "source": [
    "<img scr='C:\\Users\\kmo73\\OneDrive - 중앙대학교\\[CIS_Lab]\\CGs study\\week6\\PNG\\Artboard 1asdf'>"
   ]
  },
  {
   "cell_type": "markdown",
   "id": "833b819a",
   "metadata": {},
   "source": [
    "#### 'we can assume h varies linearly with x, and use Interpolate to compute these values'\n",
    "<img src=\" PNG/img.png\">"
   ]
  },
  {
   "cell_type": "markdown",
   "id": "91ed6ab5",
   "metadata": {},
   "source": []
  }
 ],
 "metadata": {
  "kernelspec": {
   "display_name": "Python 3",
   "language": "python",
   "name": "python3"
  },
  "language_info": {
   "codemirror_mode": {
    "name": "ipython",
    "version": 3
   },
   "file_extension": ".py",
   "mimetype": "text/x-python",
   "name": "python",
   "nbconvert_exporter": "python",
   "pygments_lexer": "ipython3",
   "version": "3.8.5"
  }
 },
 "nbformat": 4,
 "nbformat_minor": 5
}
