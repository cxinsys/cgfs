{
 "cells": [
  {
   "cell_type": "markdown",
   "metadata": {},
   "source": [
    "# Shadows And Reflections"
   ]
  },
  {
   "attachments": {},
   "cell_type": "markdown",
   "metadata": {},
   "source": [
    "## Shadows\n",
    "\n",
    "이전 챕터에서는 빛을 고려하면서 단순히 광원과 물체의 표면만을 고려했다. 그러나 그림자까지 고려하기 위해서는 빛, 물체 표면뿐만 아니라 주위의 다른 물체까지 고려해야 한다.\n",
    "\n",
    "그림자는 빛 광선이 물체에 도착하기 전 다른 물체에 의해 막히면서 생기게 된다. 우리는 물체 표면 위의 점 P와 광선의 방향 L을 알고 있으므로 이를 통해 직선 방정식을 세울 수 있다.\n",
    "\n",
    "$$P + t\\vec{L}$$\n",
    "\n",
    "우리는 이 직선을 통해 그림자를 판단할 수 있다. 이 직선이 다른 물체와 교점을 가진다면 이 점은 그림자가 드리운 것이고 교점이 없다면 이 점에는 빛이 비추는 것이다.\n",
    "\n",
    "![4_1](https://user-images.githubusercontent.com/74246766/137337696-f629c0b3-641b-499c-a68c-09141ee71d81.JPG)\n",
    "\n",
    "이러한 계산은 이전에 사용했던 방식을 재활용할 수 있다. 다만 이전 함수와 다른 부분이 있는데 다음과 같다.\n",
    "\n",
    "![4_2](https://user-images.githubusercontent.com/74246766/137337703-0f5ccb17-708f-4194-b041-c8056099be20.JPG)\n",
    "\n",
    "* 시점은 카메라가 아닌 P이다.\n",
    "* 직선의 방향은 (V-O)가 아닌 L이다.\n",
    "* P 너머로 그림자가 적용될 순 없으므로 t_min = 0이다.\n",
    "* directional light의 경우 아주 멀리서도 같은 세기로 P에 빛이 도달하므로 t_max = infinity 이다.\n",
    "\n",
    "point light의 경우, 나머지는 같지만 일부 다른 조건이 있다.\n",
    "\n",
    "![4_3](https://user-images.githubusercontent.com/74246766/137337706-de4a0451-6114-4e53-a327-6026af3e9d80.JPG)\n",
    "\n",
    "* L이 일정하지 않다.\n",
    "* 광원의 위치가 정해져 있으므로 t_max = 1이다.\n",
    "\n",
    "또 고려해야할 경우가 있는데 직선의 방정식에서 t = 0인 경우이다. 이는 곧 물체가 스스로에 의해 그림자가 생기는 경우가 되므로 0 대신 아주 작은 값을 넣는다.\n",
    "\n",
    "광선과 P가 속한 물체의 교차점 자체를 계산하지 않음으로서 문제를 해결할 수도 있지만 이는 구 같이 단순한 물체의 경우에만 작동한다. 복잡한 물체, 예를 들어 우리가 태양빛을 가리기 위해 손으로 눈을 막는 경우는 손도 눈도 우리 몸이라는 물체위 표면이다. (Self Shadowing)"
   ]
  }
 ],
 "metadata": {
  "kernelspec": {
   "display_name": "Python 3",
   "language": "python",
   "name": "python3"
  },
  "language_info": {
   "codemirror_mode": {
    "name": "ipython",
    "version": 3
   },
   "file_extension": ".py",
   "mimetype": "text/x-python",
   "name": "python",
   "nbconvert_exporter": "python",
   "pygments_lexer": "ipython3",
   "version": "3.8.5"
  }
 },
 "nbformat": 4,
 "nbformat_minor": 5
}
