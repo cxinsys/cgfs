{
 "cells": [
  {
   "cell_type": "markdown",
   "id": "24edb193",
   "metadata": {},
   "source": [
    "# Clipping Whole Objects  \n",
    "\n",
    "오브젝트 단위로 평면의 밖에 있는지 안에 있는지를 판단하려고 한다.   \n",
    "그러기 위해서 모델을 포함하는 더 간단한 도형을 만든다.\n",
    "\n",
    "Bounding Sphere 이라고 부르는 각 모델을 포함하는 가장작은 원을 찾아내자.\n",
    "\n",
    "이 원을 계산하는 것은 생각보다 어렵고, 이 책에서 다루는 범위를 벗어난다.  \n",
    "하지만 다음과 같은 과정으로 근사(Approximate)할 수 있다.   \n",
    "\n",
    "\n",
    "1. 각 모델을 이루는 점들을 평균으로 중심을 구한다.   \n",
    "2. 중심으로부터 모델 내에 가장멀리있는 점과 중심사이의 거리를 구한다.\n",
    "3. 1에서 구한 중심으로 부터 2에서 구한 길이만큼의 반지름을 가지는 구를 만든다."
   ]
  },
  {
   "cell_type": "markdown",
   "id": "0768775a",
   "metadata": {},
   "source": [
    "<img src='https://gabrielgambetta.com/computer-graphics-from-scratch/images/r14-clip-spheres-1.png'>"
   ]
  },
  {
   "cell_type": "markdown",
   "id": "6a6a83c8",
   "metadata": {},
   "source": [
    "## 완전히 평면 앞에 놓여진 경우\n",
    "\n",
    "추가적인 클립핑 작업이 필요하지 않다."
   ]
  },
  {
   "cell_type": "markdown",
   "id": "cf182c84",
   "metadata": {},
   "source": [
    "<img src='https://gabrielgambetta.com/computer-graphics-from-scratch/images/r14-clip-spheres-2.png'>"
   ]
  },
  {
   "cell_type": "markdown",
   "id": "4b11b426",
   "metadata": {},
   "source": [
    "## 완전히 평면 뒤에 놓여진 경우"
   ]
  },
  {
   "cell_type": "markdown",
   "id": "c4d23aa4",
   "metadata": {},
   "source": [
    "<img src='https://gabrielgambetta.com/computer-graphics-from-scratch/images/r14-clip-spheres-3.png'>"
   ]
  },
  {
   "cell_type": "markdown",
   "id": "e89aaabd",
   "metadata": {},
   "source": [
    "## 구가 평면과 만나는 경우\n",
    "\n",
    "이 경우에는 오브젝트를 이루는 각 삼각형들이 안에 포함되는지 포함되지 않는지에 대해서 판다하기가 어렵다.   \n",
    "다음 단계로 나아가 오브젝트가 아닌 삼각형 단위로 클립핑을 해야할 필요성이 있다."
   ]
  },
  {
   "cell_type": "markdown",
   "id": "53b3a454",
   "metadata": {},
   "source": [
    "<img src='https://gabrielgambetta.com/computer-graphics-from-scratch/images/r14-clip-spheres-4.png'>"
   ]
  },
  {
   "cell_type": "markdown",
   "id": "885b10dc",
   "metadata": {},
   "source": [
    "## 위와 같이 나누는 방법"
   ]
  },
  {
   "cell_type": "raw",
   "id": "a7649750",
   "metadata": {},
   "source": [
    "if d > r:\n",
    "    # 평면 앞\n",
    "elif d < - r:\n",
    "    # 폄면 뒤\n",
    "else:\n",
    "    # 평면과 만난다."
   ]
  },
  {
   "cell_type": "markdown",
   "id": "733cb227",
   "metadata": {},
   "source": [
    "<img src='https://gabrielgambetta.com/computer-graphics-from-scratch/images/r14-clip-plane-sphere.png'>"
   ]
  },
  {
   "cell_type": "code",
   "execution_count": null,
   "id": "e8e34a90",
   "metadata": {},
   "outputs": [],
   "source": []
  }
 ],
 "metadata": {
  "kernelspec": {
   "display_name": "Python 3",
   "language": "python",
   "name": "python3"
  },
  "language_info": {
   "codemirror_mode": {
    "name": "ipython",
    "version": 3
   },
   "file_extension": ".py",
   "mimetype": "text/x-python",
   "name": "python",
   "nbconvert_exporter": "python",
   "pygments_lexer": "ipython3",
   "version": "3.8.5"
  }
 },
 "nbformat": 4,
 "nbformat_minor": 5
}
