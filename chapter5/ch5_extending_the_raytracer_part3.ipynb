{
 "cells": [
  {
   "cell_type": "markdown",
   "id": "12a73a4e",
   "metadata": {},
   "source": [
    "### Spatial Structures"
   ]
  },
  {
   "cell_type": "markdown",
   "id": "a088012a",
   "metadata": {},
   "source": [
    "구간별로 물체들을 묶어서 그 모든 물체들을 포함하는 하나의 물체로 표현하는 것입니다.<br> \n",
    "만약 모든 물체를 포함하는 물체가 광선에 닿지 않는다면, 그 안에 있는 물체들 또한 추가적으로 계산할 필요가 없는 것입니다.<br>\n",
    "\n",
    "트리처럼 계층적으로 구성할 수가 있습니다"
   ]
  },
  {
   "cell_type": "markdown",
   "id": "b523c161",
   "metadata": {},
   "source": [
    "### Subsampling"
   ]
  },
  {
   "cell_type": "markdown",
   "id": "a6878067",
   "metadata": {},
   "source": [
    "(10,100) 에서 뻗어나간 빛과 (12,100)에서 뻗어나간 점이 같은 물체에 부딪쳤다면, <br>\n",
    "그 사이에 끼어있는 (11,100) 또한 같은 물체에 부딪칠 것이라고 예상할 수가 있습니다. <br>\n",
    "\n",
    "만약 이것을 가로 세로축에 동시에 적용한다면 75%나 적은 뷰포트의 픽셀을 확인할 수가 있습니다.<br>\n",
    "4배나 빨라지는 것입니다.\n",
    "\n",
    "단점은 중간에 아주 얇은 물체가 있다면 놓칠 수도 있다는 것입니다.\n",
    "\n",
    "\n"
   ]
  },
  {
   "cell_type": "markdown",
   "id": "bee8a578",
   "metadata": {},
   "source": [
    "### Suporting Other Primitives"
   ]
  },
  {
   "cell_type": "markdown",
   "id": "b7270676",
   "metadata": {},
   "source": [
    "구체뿐만 아니라 다른 형체의 물체들 또한 어렵지 않게 렌더링 할 수가 있습니다.<br>\n",
    "TraceRay 함수는 하나의 광선과 물체로부터 두 가지 Output만 얻어내면 됩니다.<br>\n",
    "바로 가장 가까운 지점의 거리인 t와 물체와 부딪힌 지점에서의 정규벡터(Normal Vector)입니다.\n",
    "\n",
    "\n",
    "삼각형은 가장 간단한 도형이여서 다른 도형을 구성하기도 쉽고 수학적으로도 다루기가 쉽습니다.<br>\n",
    "그래서 삼각형을 추가합니다.\n",
    "\n",
    "TraceRay만 추가하면 됩니다. 우선 빛과 삼각형이 존재하는 평면사이에 교차점을 구합니다.<br>\n",
    "빛의 방향과 평면이 평행하지 않는 이상 교차점이 생깁니다.\n",
    "\n",
    "다음과정은 교차점이 삼각형안에 존재하는지를 확인하는 것입니다.\n",
    "\n",
    "만약 교차점이 삼각형 안에 존재한다면, t와 함께 평면의 수직선을 리턴하면 끝입니다."
   ]
  },
  {
   "cell_type": "code",
   "execution_count": null,
   "id": "082020dc",
   "metadata": {},
   "outputs": [],
   "source": []
  }
 ],
 "metadata": {
  "kernelspec": {
   "display_name": "Python 3",
   "language": "python",
   "name": "python3"
  },
  "language_info": {
   "codemirror_mode": {
    "name": "ipython",
    "version": 3
   },
   "file_extension": ".py",
   "mimetype": "text/x-python",
   "name": "python",
   "nbconvert_exporter": "python",
   "pygments_lexer": "ipython3",
   "version": "3.8.5"
  }
 },
 "nbformat": 4,
 "nbformat_minor": 5
}
