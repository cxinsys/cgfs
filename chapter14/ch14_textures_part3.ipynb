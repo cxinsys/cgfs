{
 "cells": [
  {
   "cell_type": "markdown",
   "id": "1651962d",
   "metadata": {},
   "source": [
    "## Trilinear Filtering\n",
    "\n",
    "한 단계 더 나아가 보자. 오브젝트가 카메라로부터 멀리 떨어져 있다고 상상해보자. 우리는 해당 오브젝트의 사이즈에 맞게 mipmap을 사용하여 랜더링하였다. 이제 카메라가 오브젝트 쪽으로 움직인다고 생각해보자. 어느 시점에서, 가장 적절한 mipmap 레벨은 변경될 것이다.\n",
    "\n",
    "우리가 mipmap을 선택할 때, 사각형과 가장 근접하게 맞는 상대적인 크기의 텍스처를 선택했다. 예를 들어 사각형이 텍스처보다 10배 작다면 우리는 기본 크기보다 8배 작은 mipmap을 선택한 후 bilinear filtering을 적용했다. 그러나 적절한 상대적 크기를 결정하는 것에 대해서 우리는 두 가지 mipmap 레벨을 고려할 수 있다.(이 경우에는 8배와 16배를 고려할 수 있다.) 그리고 두 mipmap의 크기와 실제 크기간 비율을 구하고 이를 '거리'로써 활용하여 둘 사이를 선형 보간할 수 있다.\n",
    "\n",
    "이러한 기술은 각 mipmap의 색깔을 bilinearly interpolate 하고 그 위에 두 mipmap간에 또다른 선형 보간을 필요로 하기 때문에 $trilinear \\ filtering$이라고 불린다.\n",
    "\n",
    "https://mkblog.co.kr/texture_filtering_bilinear_trilinear_anisotropic/"
   ]
  },
  {
   "cell_type": "markdown",
   "id": "53c08b83",
   "metadata": {},
   "source": [
    "---------------"
   ]
  }
 ],
 "metadata": {
  "kernelspec": {
   "display_name": "Python 3",
   "language": "python",
   "name": "python3"
  },
  "language_info": {
   "codemirror_mode": {
    "name": "ipython",
    "version": 3
   },
   "file_extension": ".py",
   "mimetype": "text/x-python",
   "name": "python",
   "nbconvert_exporter": "python",
   "pygments_lexer": "ipython3",
   "version": "3.8.8"
  }
 },
 "nbformat": 4,
 "nbformat_minor": 5
}
