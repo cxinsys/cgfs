{
 "cells": [
  {
   "cell_type": "markdown",
   "id": "cdee6024",
   "metadata": {},
   "source": [
    "### Tracing Rays\n",
    "\n",
    "카메라에서부터 생성된 빛이 viewport의 한 점을 통과하고, 장면에서 어떤 물체와 부딪힐때까지 추적한다.   \n",
    "어떤 물체는 카메라가 viewport를 통해 보는 물체이다.    \n",
    "\n",
    "<img src = \"https://gabrielgambetta.com/computer-graphics-from-scratch/images/03-basic-raytracer.png\">\n",
    "\n",
    "### The Ray Equation\n",
    "\n",
    "우리는 빛이 원점을 통과하는 것을 알고, viewport의 점과 원점의 방향도 알고 있다. 따라서 다음과 같이 $P$를 표현할 수 있다.  \n",
    "\n",
    "$P = O + t(V - O)$   \n",
    "\n",
    "$t$는 아무런 실수이다. $t$에 모든 값을 넣어준다면, ray를 따라 생성되는 모든 $P$점을 얻을 수 있다.   \n",
    "\n",
    "$V-O$는 빛의 방향으로 $\\vec{D}$로 표현하였다.   \n",
    "\n",
    "$P = O + t\\vec{D}$    \n",
    "\n",
    "모든 $t$값은 ray에 속해있는 다른 점이다.\n",
    "\n",
    "<img src = \"https://gabrielgambetta.com/computer-graphics-from-scratch/images/04-parametric.png\">\n",
    "\n",
    "### The Sphere Equation\n",
    "\n",
    "빛이 도달할 수 있는 물체가 장면에서 필요하다.   \n",
    "\n",
    "구는 방정식으로 다루기 쉽기 때문에 구를 사용한다. \n",
    "\n",
    "<img src = \"https://gabrielgambetta.com/computer-graphics-from-scratch/images/04-sphere.png\">\n",
    "\n",
    "$C$를 원의 중심이라 하고, 구의 표면에 $P$가 존재할 때 다음과 같은 식을 만족시킨다.   "
   ]
  },
  {
   "cell_type": "markdown",
   "id": "811bd250",
   "metadata": {},
   "source": [
    "$\\left\\vert P - C \\right\\vert = r$"
   ]
  },
  {
   "cell_type": "markdown",
   "id": "87a1f7fe",
   "metadata": {},
   "source": [
    "벡터의 길이를 구하고, 제곱을 하여 다음과 같은 식을 완성한다.    "
   ]
  },
  {
   "cell_type": "markdown",
   "id": "f6dc768c",
   "metadata": {},
   "source": [
    "$\\left\\langle P-C, P-C \\right\\rangle = r \\times r$ "
   ]
  },
  {
   "cell_type": "markdown",
   "id": "5fbf5fbc",
   "metadata": {},
   "source": [
    "### Ray Meets Sphere   \n",
    "    \n",
    "\n",
    "처음의 수식은 구 위에서의 점을 표현한 것이고, 두 번째 수식은 ray 위의 점을 표현한 수식이다. "
   ]
  },
  {
   "cell_type": "markdown",
   "id": "fca40d1c",
   "metadata": {},
   "source": [
    "$\\left\\langle P-C, P-C \\right\\rangle = r \\times r$    \n",
    "$P = O + t\\vec{D}$    "
   ]
  },
  {
   "cell_type": "markdown",
   "id": "22dda2f8",
   "metadata": {},
   "source": [
    "점 P가 두 방정식의 같은 부분에 존재하기 때문에, 첫번째 식의 P를 두번째 식의 P를 통해 나타낼 수 있다.    "
   ]
  },
  {
   "cell_type": "markdown",
   "id": "559d6844",
   "metadata": {},
   "source": [
    "$\\left\\langle O + t\\vec{D} - C, O + t\\vec{D} - C \\right\\rangle = r ^2$    "
   ]
  },
  {
   "cell_type": "markdown",
   "id": "25b12bcb",
   "metadata": {},
   "source": [
    "$O - C$ 를 $\\vec{CO}$ 로 나타낼 수 있다. "
   ]
  },
  {
   "cell_type": "markdown",
   "id": "25a6da82",
   "metadata": {},
   "source": [
    "내적을 분배할 수 있기 때문에 내적을 분배하고, 스칼라 값인 $t$ 값을 밖으로 뺀다."
   ]
  },
  {
   "cell_type": "markdown",
   "id": "05279b63",
   "metadata": {},
   "source": [
    "$t$를 변수로 하는 2차 방정식을 구할 수 있다.\n",
    "\n",
    "근의 공식을 이용하여 $t$의 해를 구한다.    \n",
    "\n",
    "$t$의 해에 따라 $P$점의 값을 찾아낼 수 있다.   "
   ]
  },
  {
   "cell_type": "markdown",
   "id": "ade53aef",
   "metadata": {},
   "source": [
    "<img src = \"https://gabrielgambetta.com/computer-graphics-from-scratch/images/04-sphere-solutions.png\">"
   ]
  },
  {
   "cell_type": "code",
   "execution_count": null,
   "id": "8b2e8c28",
   "metadata": {},
   "outputs": [],
   "source": []
  }
 ],
 "metadata": {
  "kernelspec": {
   "display_name": "Python 3",
   "language": "python",
   "name": "python3"
  },
  "language_info": {
   "codemirror_mode": {
    "name": "ipython",
    "version": 3
   },
   "file_extension": ".py",
   "mimetype": "text/x-python",
   "name": "python",
   "nbconvert_exporter": "python",
   "pygments_lexer": "ipython3",
   "version": "3.8.8"
  }
 },
 "nbformat": 4,
 "nbformat_minor": 5
}
