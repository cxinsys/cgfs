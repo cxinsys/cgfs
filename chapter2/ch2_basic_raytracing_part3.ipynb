{
 "cells": [
  {
   "cell_type": "markdown",
   "metadata": {},
   "source": [
    "# 2. Basic Raytracing"
   ]
  },
  {
   "cell_type": "code",
   "execution_count": 67,
   "metadata": {},
   "outputs": [
    {
     "data": {
      "text/plain": [
       "<matplotlib.image.AxesImage at 0x258228f91f0>"
      ]
     },
     "execution_count": 67,
     "metadata": {},
     "output_type": "execute_result"
    },
    {
     "data": {
      "image/png": "[encoded data removed]",
      "text/plain": [
       "<Figure size 432x288 with 1 Axes>"
      ]
     },
     "metadata": {
      "needs_background": "light"
     },
     "output_type": "display_data"
    }
   ],
   "source": [
    "import numpy as np\n",
    "import math\n",
    "import cv2\n",
    "import matplotlib.pyplot as plt\n",
    "\n",
    "canvas_width = 600\n",
    "canvas_height = 600\n",
    "\n",
    "class Sphere:\n",
    "    def __init__(self, center, radius, color):\n",
    "        self.center = center\n",
    "        self.radius = radius\n",
    "        self.color = color\n",
    "\n",
    "viewport_size = 1\n",
    "projection_plane_z = 1\n",
    "camera_position = [0,0,0]\n",
    "background_color = [255,255,255]\n",
    "\n",
    "sphere1 = Sphere([0, -1, 3], 1, [0, 0, 255]) # OpenCv의 경우 RGB 가 아닌 BRG 순서이므로 순서를 조정했다.\n",
    "sphere2 = Sphere([2, 0, 4], 1, [255, 0, 0])\n",
    "sphere3 = Sphere([-2, 0, 4], 1, [0, 255, 0])\n",
    "spheres = [sphere1, sphere2, sphere3]\n",
    "\n",
    "def canvas2viewport(point2d):\n",
    "    return [point2d[0] * viewport_size / canvas_width, point2d[1] * viewport_size / canvas_height, projection_plane_z]\n",
    "\n",
    "def intersect_ray_sphere(origin, direction, sphere):\n",
    "    oc = np.subtract(origin, sphere.center)\n",
    "    \n",
    "    k1 = np.dot(direction, direction)\n",
    "    k2 = 2*np.dot(oc, direction)\n",
    "    k3 = np.dot(oc, oc) - sphere.radius*sphere.radius\n",
    "    \n",
    "    discriminant = k2*k2 - 4*k1*k3\n",
    "    if (discriminant < 0):\n",
    "        return [math.inf, math.inf]\n",
    "    \n",
    "    t1 = (-k2 + math.sqrt(discriminant)) / (2*k1)\n",
    "    t2 = (-k2 - math.sqrt(discriminant)) / (2*k1)\n",
    "    return [t1, t2]\n",
    "\n",
    "def traceray(origin, direction, min_t, max_t):\n",
    "    closest_t = math.inf\n",
    "    closest_sphere = None\n",
    "    \n",
    "    for i in range(3):\n",
    "        ts = intersect_ray_sphere(origin, direction, spheres[i])\n",
    "        if (ts[0] < closest_t and min_t < ts[0] and ts[0] < max_t):\n",
    "            closest_t = ts[0]\n",
    "            closest_sphere = spheres[i]\n",
    "        if (ts[1] < closest_t and min_t < ts[1] and ts[1] < max_t):\n",
    "            closest_t = ts[1]\n",
    "            closest_sphere = spheres[i]\n",
    "            \n",
    "    if (closest_sphere == None):\n",
    "        return background_color\n",
    "    \n",
    "    return closest_sphere.color\n",
    "\n",
    "def putpixel(x, y, color):\n",
    "    x = canvas_width/2 + x\n",
    "    y = canvas_height/2 - y\n",
    "    if (x< 0 or x >= canvas_width or y < 0 or y >= canvas_height):\n",
    "        return\n",
    "    cv2.line(img, (int(x), int(y)), (int(x), int(y)), (color[0], color[1], color[2]))\n",
    "\n",
    "x = -canvas_width/2\n",
    "y = -canvas_height/2\n",
    "\n",
    "img = np.zeros((canvas_width,canvas_height,3), dtype = np.uint8)\n",
    "\n",
    "for i in range(canvas_width):\n",
    "    for j in range(canvas_height):\n",
    "        direction = canvas2viewport([x,y])\n",
    "        color = traceray(camera_position, direction, 1, math.inf)\n",
    "        putpixel(x,y,color)\n",
    "        y+=1\n",
    "    y = -canvas_height/2\n",
    "    x+=1\n",
    " \n",
    "\n",
    "plt.imshow(img)\n",
    "#cv2.imshow('Raytracer', img)\n",
    "#cv2.waitKey()\n",
    "#cv2.destoryAllWindows()"
   ]
  }
 ],
 "metadata": {
  "kernelspec": {
   "display_name": "Python 3",
   "language": "python",
   "name": "python3"
  },
  "language_info": {
   "codemirror_mode": {
    "name": "ipython",
    "version": 3
   },
   "file_extension": ".py",
   "mimetype": "text/x-python",
   "name": "python",
   "nbconvert_exporter": "python",
   "pygments_lexer": "ipython3",
   "version": "3.8.5"
  }
 },
 "nbformat": 4,
 "nbformat_minor": 5
}
