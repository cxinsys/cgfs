{
 "cells": [
  {
   "cell_type": "markdown",
   "id": "9bf7fd82",
   "metadata": {},
   "source": [
    "#### Rendering a Swiss Landscape"
   ]
  },
  {
   "cell_type": "markdown",
   "id": "2bc51d23",
   "metadata": {},
   "source": [
    "canvas: 그림이 그려지는 곳\n",
    "frame: 주어진 환경을 바라보는 창"
   ]
  },
  {
   "cell_type": "raw",
   "id": "2da18106",
   "metadata": {},
   "source": [
    "Place the eye and the frame as desired\n",
    "\n",
    "For each square on the canvas\n",
    "    Determine which square on the grid corresponds to this square on the canvas # 그리드위의 사각형이 대응되는 캔버스 위의 지점을 찾자\n",
    "    Determine the color seen through that grid square # 프레임에서 해당 그리드를 통해 보이는 색을 결정한다\n",
    "    Paint the square with that color # 대응되는 캔버스의 사각형을 색칠한다"
   ]
  },
  {
   "cell_type": "markdown",
   "id": "1f009c48",
   "metadata": {},
   "source": [
    "#### Basic Assumptions"
   ]
  },
  {
   "cell_type": "markdown",
   "id": "a6244e78",
   "metadata": {},
   "source": [
    "카메라의 위치<br>\n",
    "O=(0,0,0)\n",
    "\n",
    "카메라부터 viewport까지의 수직 거리: d\n",
    "(위에서의 프레임을 viewport라고 한다)\n",
    "\n",
    "\n",
    "\n",
    "<img src=https://gabrielgambetta.com/computer-graphics-from-scratch/images/03-viewport.png>"
   ]
  },
  {
   "cell_type": "markdown",
   "id": "1ff1876e",
   "metadata": {},
   "source": [
    "관측하는 프레임의 크기 : V_w, V_h <br>\n",
    "(단위는 카메라와 프레임이 정의된 공간의 단위와 일치한다)"
   ]
  },
  {
   "cell_type": "markdown",
   "id": "ab7e36b4",
   "metadata": {},
   "source": [
    "#### Canvas to Viewport"
   ]
  },
  {
   "cell_type": "markdown",
   "id": "890b45ec",
   "metadata": {},
   "source": [
    "\"Because the viewport is measured in world units and the canvas is measured in pixels,<br> going from canvas coordinates to space coordinates is just a change of scale!\"\n",
    "\n",
    "<br><br>\n",
    "\n",
    "V_x=C_x⋅(V_w/C_w)\n",
    "\n",
    "V_y=C_y⋅(V_h/C_h)\n",
    "\n",
    "<br><br>\n",
    "\n",
    "(V_w/C_w) : 캔버스 폭 유닛(가로 픽셀) 당 월드(뷰포트가 정의된 공간의) 유닛<br>\n",
    "(V_h/C_h) : 캔버스 높이 유닛(세로 픽셀) 당 월드(뷰포트가 정의된 공간의) 유닛\n",
    "\n",
    "C_x : 캔버스에서의 가로 좌표<br>\n",
    "C_y : 캔버스에서의 세로 좌표<br>\n",
    "V_x : 뷰포트에서의 가로 좌표<br>\n",
    "V_y : 뷰포트에서의 세로 좌표<br>\n",
    "\n",
    "There’s an extra detail. Although the viewport is 2D, it’s embedded in 3D space. We defined it to be at a distance d from the camera; every point in this plane (called the projection plane) has, by definition, z=d. Therefore,\n",
    "\n",
    "\n",
    "V_z=d"
   ]
  }
 ],
 "metadata": {
  "kernelspec": {
   "display_name": "Python 3",
   "language": "python",
   "name": "python3"
  },
  "language_info": {
   "codemirror_mode": {
    "name": "ipython",
    "version": 3
   },
   "file_extension": ".py",
   "mimetype": "text/x-python",
   "name": "python",
   "nbconvert_exporter": "python",
   "pygments_lexer": "ipython3",
   "version": "3.8.5"
  }
 },
 "nbformat": 4,
 "nbformat_minor": 5
}
