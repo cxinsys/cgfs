{
 "cells": [
  {
   "cell_type": "markdown",
   "id": "3d2efcf3",
   "metadata": {},
   "source": [
    "## Properties of the Projection Equation\n",
    "\n",
    "앞선 내용을 코드로 구현해보기 전에 projection equation의 흥미로운 속성들에 대해 알아보자.\n",
    "\n",
    "projection equation은 우리 현실 감각과 호환된다. 예를 들어, 현실에서는 더 멀리 있는 물체를 볼 수록 더 작게 보인다. 마찬가지로 $P_z$ 값을 늘릴수록 더 작은 $P'_x$와 $P'_y$ 값을 얻을 수 있다.\n",
    "\n",
    "<img src=\"https://user-images.githubusercontent.com/74246766/143735143-ae2b5cb5-d3f3-4f0f-b595-aac0956698ad.PNG\"  width=\"50%\" height=\"50%\"/>\n",
    "\n",
    "$$P'_x = \\frac{P_x \\cdot d}{P_z}$$\n",
    "\n",
    "$$P'_y = \\frac{P_y \\cdot d}{P_z}$$\n",
    "\n",
    "그러나 $P_z$를 너무 줄여버리면 좋지 않다. 만약 $P_z$가 음수일 경우 물체는 카메라 뒤에 있는 것이 된다. 또한 $P_z = 0$이라면 수식에서 0으로 나누는 꼴이 되어 공간이 터져버릴 것이다. 우리는 이러한 상황을 당장 회피하기 위해 모든 점이 카메라 앞에 있다고 가정하고 이후에 이 문제에 대해서 다뤄보도록 한다."
   ]
  },
  {
   "cell_type": "markdown",
   "id": "ec53a526",
   "metadata": {},
   "source": [
    "또다른 projection equation의 속성은 점들의 정렬을 유지한다는 것이다. 어떤 공간에서 세 점 정렬되어 있다면 그 공간을 투영시킨 후에도 해당 정렬은 유지된다.\n",
    "\n",
    "<img src=\"https://user-images.githubusercontent.com/74246766/143735635-b4b37943-747d-46ea-90db-2aa26a202300.PNG\"  width=\"50%\" height=\"50%\"/>\n",
    "\n",
    "이는 굉장히 당연한 말 같지만 명심해야할 점은 '각도'와 같이 보존되지 않는 것도 있다는 것이다. 예를 들어, 우리가 고속도로에서 차를 타고 양 옆의 평행한 선이 지평선에서 수렴하는 것을 알 수 있다.\n",
    "\n",
    "<img src=\"https://user-images.githubusercontent.com/74246766/143735809-a2a74b64-54ab-43af-adf1-751a40d0eaab.jpg\"  width=\"50%\" height=\"50%\"/>\n"
   ]
  },
  {
   "cell_type": "markdown",
   "id": "171da637",
   "metadata": {},
   "source": [
    "결과적으로 직선은 투영되었을 때 언제나 직선의 형상을 유지한다는 것이므로 우리에게 있어서는 매우 편리한 도구가 된다. 두 점 사이의 선분의 투영이 곧 투영된 두 점 사이의 선분이 되고, 삼각형의 투영은 투영된 삼각형의 세 꼭짓점을 이은 삼각형이 되는 것이기 때문이다."
   ]
  }
 ],
 "metadata": {
  "kernelspec": {
   "display_name": "Python 3",
   "language": "python",
   "name": "python3"
  },
  "language_info": {
   "codemirror_mode": {
    "name": "ipython",
    "version": 3
   },
   "file_extension": ".py",
   "mimetype": "text/x-python",
   "name": "python",
   "nbconvert_exporter": "python",
   "pygments_lexer": "ipython3",
   "version": "3.8.8"
  }
 },
 "nbformat": 4,
 "nbformat_minor": 5
}
