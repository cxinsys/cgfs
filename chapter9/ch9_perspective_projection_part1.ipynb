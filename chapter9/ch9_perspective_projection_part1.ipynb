{
 "cells": [
  {
   "cell_type": "markdown",
   "id": "a2fe5449",
   "metadata": {},
   "source": [
    "## Basic Assumptions"
   ]
  },
  {
   "cell_type": "markdown",
   "id": "a6244e78",
   "metadata": {},
   "source": [
    "카메라의 위치<br>\n",
    "O=(0,0,0)\n",
    "\n",
    "Looking direction: $\\overrightarrow{Z^+}$    \n",
    "Up Vector: $\\overrightarrow{Y^+}$\n",
    "\n",
    "카메라부터 viewport까지의 수직 거리: d\n",
    "(위에서의 프레임을 viewport라고 한다)\n",
    "\n",
    "\n",
    "\n",
    "<img src=https://gabrielgambetta.com/computer-graphics-from-scratch/images/03-viewport.png>"
   ]
  },
  {
   "cell_type": "markdown",
   "id": "1ff1876e",
   "metadata": {},
   "source": [
    "Viewport 크기 : $V_w,  V_h$ <br>\n",
    "(Viewport의 단위는 카메라와 프레임이 정의된 공간의 단위와 일치한다)   \n",
    "Viewport의 가로경계와 세로경계는 각각 $\\overrightarrow{X}, \\overrightarrow{Y}$와 평행하다"
   ]
  },
  {
   "cell_type": "markdown",
   "id": "9bf7fd82",
   "metadata": {},
   "source": [
    "### 기존의 Raytracing "
   ]
  },
  {
   "cell_type": "markdown",
   "id": "2bc51d23",
   "metadata": {},
   "source": [
    "canvas: 그림이 그려지는 곳\n",
    "frame: 주어진 환경을 바라보는 창"
   ]
  },
  {
   "cell_type": "raw",
   "id": "2da18106",
   "metadata": {},
   "source": [
    "Place the eye and the frame as desired\n",
    "\n",
    "For each square on the canvas\n",
    "    Determine which square on the grid corresponds to this square on the canvas # 그리드위의 사각형이 대응되는 캔버스 위의 지점을 찾자\n",
    "    Determine the color seen through that grid square # 프레임에서 해당 그리드를 통해 보이는 색을 결정한다\n",
    "    Paint the square with that color # 대응되는 캔버스의 사각형을 색칠한다"
   ]
  },
  {
   "cell_type": "markdown",
   "id": "6a6c1788",
   "metadata": {},
   "source": [
    "### 앞으로 배울 Perspective Projection\n",
    "\n",
    "기존의 Raytracing과 반대로 Scene위에 점 P에서 시작해서, 뷰포트의 어느지점에 맺히는 지를 확인하게 된다."
   ]
  },
  {
   "cell_type": "markdown",
   "id": "9452b349",
   "metadata": {},
   "source": [
    "<img src=\"https://gabrielgambetta.com/computer-graphics-from-scratch/images/r12-perspective.png\">"
   ]
  }
 ],
 "metadata": {
  "kernelspec": {
   "display_name": "Python 3",
   "language": "python",
   "name": "python3"
  },
  "language_info": {
   "codemirror_mode": {
    "name": "ipython",
    "version": 3
   },
   "file_extension": ".py",
   "mimetype": "text/x-python",
   "name": "python",
   "nbconvert_exporter": "python",
   "pygments_lexer": "ipython3",
   "version": "3.8.5"
  }
 },
 "nbformat": 4,
 "nbformat_minor": 5
}
