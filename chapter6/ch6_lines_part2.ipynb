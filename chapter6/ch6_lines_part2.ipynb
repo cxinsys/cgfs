{
 "cells": [
  {
   "cell_type": "markdown",
   "id": "bc715c70",
   "metadata": {},
   "source": [
    "## Drawing Lines\n",
    "\n",
    "앞선 공식을 바탕으로 선을 그려보자. 선으로 연결될 두 개의 점의 좌표를 알고 있으므로 다음과 같은 함수를 만들 수 있다.\n",
    "\n",
    "```python\n",
    "DrawLine(p0, p1, color){\n",
    "    a = (y1 - y0) / (x1 - x0)\n",
    "    b = y0 - a * x0\n",
    "    for x in range(x0, x1 + 1):\n",
    "        y = a*x + b\n",
    "        canvas.putpixel(x, y, color)\n",
    "}\n",
    "```\n",
    "\n",
    "<br></br>\n",
    "<br></br>\n",
    "<br></br>\n",
    "위 함수 처리 속도를 조금 더 빠르게 만들어보자. 우리는 두 점의 좌표를 알고 있기 때문에 x가 1 증가함에 따라 y가 얼마나 증가하는지(기울기)를 알고 있다. 위 함수에서는 x가 증가할 때마다 y의 값을 계산했지만 a(기울기)값을 알기 때문에 굳이 그럴 필요가 없다.\n",
    "\n",
    "```python\n",
    "DrawLine(p0, p1, color){\n",
    "    a = (y1 - y0) / (x1 - x0)\n",
    "    y = y0\n",
    "    for x in range(x0, x1 + 1):\n",
    "        canvas.putpixel(x, y, color)\n",
    "        y = y + a # 기울기를 더해주기만 하면 된다.\n",
    "}\n",
    "```\n",
    "\n",
    "\n",
    "<br></br>\n",
    "<br></br>\n",
    "<br></br>\n",
    "\n",
    "지금까지는 x0 < x1이라는 가정하에 함수를 만들었지만 그렇지 않은 경우라면 단순히 p0와 p1의 값을 바꾸어 x0 < x1로 만들어준 후 계산하면 될 것이다.\n",
    "\n",
    "```python\n",
    "DrawLine(p0, p1, color){\n",
    "    if x0 > x1:\n",
    "        p0, p1 = p1, p0\n",
    "    a = (y1 - y0) / (x1 - x0)\n",
    "    y = y0\n",
    "    for x in range(x0, x1 + 1):\n",
    "        canvas.putpixel(x, y, color)\n",
    "        y = y + a # 기울기를 더해주기만 하면 된다.\n",
    "}\n",
    "```"
   ]
  },
  {
   "cell_type": "code",
   "execution_count": 7,
   "id": "f6199c3a",
   "metadata": {},
   "outputs": [
    {
     "data": {
      "text/plain": [
       "<matplotlib.image.AxesImage at 0x26e1ff4a3a0>"
      ]
     },
     "execution_count": 7,
     "metadata": {},
     "output_type": "execute_result"
    },
    {
     "data": {
      "image/png": "[encoded data removed]",
      "text/plain": [
       "<Figure size 432x288 with 1 Axes>"
      ]
     },
     "metadata": {
      "needs_background": "light"
     },
     "output_type": "display_data"
    }
   ],
   "source": [
    "import numpy as np\n",
    "import math\n",
    "import cv2\n",
    "import matplotlib.pyplot as plt\n",
    "\n",
    "canvas_width = 600\n",
    "canvas_height = 600\n",
    "\n",
    "class Point:\n",
    "    def __init__(self, x, y, color=[255,255,255]):\n",
    "        self.x = x\n",
    "        self.y = y\n",
    "        self.color = color\n",
    "\n",
    "point1 = Point(-200, -100)\n",
    "point2 = Point(240, 120)\n",
    "\n",
    "def draw_line(p0, p1, color):\n",
    "    if p0.x > p1.x:\n",
    "        p0.x, p1.x = p1.x, p0.x\n",
    "        \n",
    "    a = (p1.y - p0.y) / (p1.x - p0.x)\n",
    "    y = p0.y\n",
    "    for x in range(p0.x, p1.x + 1):\n",
    "        putpixel(x, y, color)\n",
    "        y = y + a\n",
    "\n",
    "def putpixel(x, y, color):\n",
    "    x = canvas_width/2 + x\n",
    "    y = canvas_height/2 - y\n",
    "    if (x< 0 or x >= canvas_width or y < 0 or y >= canvas_height):\n",
    "        return\n",
    "    cv2.line(img, (int(x), int(y)), (int(x), int(y)), (color[0], color[1], color[2]))\n",
    "\n",
    "x = -canvas_width/2\n",
    "y = -canvas_height/2\n",
    "\n",
    "img = np.full((canvas_width,canvas_height,3), [255,255,255], dtype = np.uint8)\n",
    "\n",
    "draw_line(point1, point2, [0,0,0])\n",
    "\n",
    "plt.imshow(img)"
   ]
  },
  {
   "cell_type": "code",
   "execution_count": 11,
   "id": "65962f5d",
   "metadata": {},
   "outputs": [
    {
     "data": {
      "text/plain": [
       "<matplotlib.image.AxesImage at 0x26e200e8f40>"
      ]
     },
     "execution_count": 11,
     "metadata": {},
     "output_type": "execute_result"
    },
    {
     "data": {
      "image/png": "[encoded data removed]",
      "text/plain": [
       "<Figure size 432x288 with 1 Axes>"
      ]
     },
     "metadata": {
      "needs_background": "light"
     },
     "output_type": "display_data"
    }
   ],
   "source": [
    "img2 = img[250:350, 250:350].copy()\n",
    "\n",
    "plt.imshow(img2)"
   ]
  }
 ],
 "metadata": {
  "kernelspec": {
   "display_name": "Python 3",
   "language": "python",
   "name": "python3"
  },
  "language_info": {
   "codemirror_mode": {
    "name": "ipython",
    "version": 3
   },
   "file_extension": ".py",
   "mimetype": "text/x-python",
   "name": "python",
   "nbconvert_exporter": "python",
   "pygments_lexer": "ipython3",
   "version": "3.8.8"
  }
 },
 "nbformat": 4,
 "nbformat_minor": 5
}
