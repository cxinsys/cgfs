{
 "cells": [
  {
   "cell_type": "code",
   "execution_count": 1,
   "id": "744e6f1f-0760-497e-8f2a-3c1c4ad17f4f",
   "metadata": {},
   "outputs": [],
   "source": [
    "import numpy as np\n",
    "import math\n",
    "import cv2\n",
    "import matplotlib.pyplot as plt"
   ]
  },
  {
   "cell_type": "code",
   "execution_count": 9,
   "id": "98273ca5-aee7-4634-8130-15016ff990bf",
   "metadata": {},
   "outputs": [],
   "source": [
    "class Canvas:\n",
    "    def __init__(self,\n",
    "                 width=600, \n",
    "                 height=600):\n",
    "        self.width = width\n",
    "        self.height = height\n",
    "        \n",
    "        self.img = np.zeros((width,height,3), dtype = np.uint8) + 255\n",
    "        \n",
    "    def putpixel(self, x, y, color,line_width):\n",
    "        x = self.width/2 + x\n",
    "        y = self.height/2 - y -1\n",
    "        if (x< 0 or x >= self.width or y < 0 or y >= self.height):\n",
    "            return \n",
    "        R = int(color[0])\n",
    "        G = int(color[1])\n",
    "        B = int(color[2])\n",
    "        cv2.line(self.img, (int(x), int(y)), (int(x), int(y)), (R,G,B),line_width)\n",
    "        \n",
    "    def draw_line(self, p0, p1, color, line_width):\n",
    "        if p0[0] > p1[0]:\n",
    "            p0, p1 = p1, p0\n",
    "            \n",
    "        a = (p1[1] - p0[1]) / (p1[0] - p0[0])\n",
    "        y = p0[1]\n",
    "        for x in range(p0[0], p1[0]+1,1):\n",
    "            self.putpixel(x,y,color,line_width)\n",
    "            y = y + a\n",
    "        \n",
    "        plt.imshow(self.img)\n",
    "        \n",
    "        return "
   ]
  },
  {
   "cell_type": "code",
   "execution_count": 10,
   "id": "2f1e6809-3787-4f0f-9b7d-c6d20f735128",
   "metadata": {},
   "outputs": [
    {
     "data": {
      "image/png": "[encoded data removed]",
      "text/plain": [
       "<Figure size 432x288 with 1 Axes>"
      ]
     },
     "metadata": {
      "needs_background": "light"
     },
     "output_type": "display_data"
    }
   ],
   "source": [
    "canvas = Canvas(600,600)\n",
    "canvas.draw_line((-200,-100),(240,120),(0,0,0),2)"
   ]
  },
  {
   "cell_type": "markdown",
   "id": "a283bf4d",
   "metadata": {},
   "source": [
    "<img src = \"https://gabrielgambetta.com/computer-graphics-from-scratch/images/raster-01b.png\" width=\"40%\">"
   ]
  },
  {
   "cell_type": "markdown",
   "id": "dc906600",
   "metadata": {},
   "source": [
    "위의 선이 들쭉날쭉 한 이유는 정수 좌표에만 픽셀을 그릴 수 있고, 수학적인 선은 실제로 폭이 0이기 때문이다.    \n",
    "우리가 그리고 있는 것은 이상적인 선의 근사치이다.    \n",
    "\n",
    "선의 근사치를 더 아름답게 그릴 수 있는 방법들이 있다.     \n",
    "\n",
    "`MSAA(MultiSampling Anti Aliasing)` : 멀티 샘플링 안티 엘리어싱이다. 폴리곤의 가장자리가 지나가는 부분만 표본화를 거치고 AA를 진행한다. 엘리어싱은 주로 가장자리에서 발생하고, 폴리곤 그래픽은 가장자리를 알 수 있기 때문에 가장자리 부분만 표본화 해 픽셀을 계산하여 적용한다.    \n",
    "\n",
    "`FXAA(Fast approximate anti-aliasing)` : NVIDIA 에서 사용하는 AA 기법. \n",
    "\n",
    "\n",
    "`SSAA(Supersampling anti-aliasing)` : 고해상도로 이미지를 만든 다음 박스 필터로 AA를 진행하고 다운샘플링 한다.    \n",
    "> (256,256) 의 이미지에 1.2 픽셀 굵기의 선이 있으면, 선의 두께를 4.8픽셀로 키우고, (1024,1024)의 스크린으로 해상도를 높인다. 그 다음 (4,4) 픽셀의 필터를 적용해 축소된 (256,256) 이미지를 얻는다. \n",
    "\n",
    "`TAA(Temporal anti-aliasing)` : 과거 프레임과 현재 프레임의 정보를 결합하여 현재 프레임에서 AA를 진행한다.   \n",
    "\n",
    "\n",
    "위와 같은 기법을 사용하지 않는 이유는 속도가 너무 느리고, 우리의 목표는 예쁜 선을 그리는 것이 아니라 3D 장면을 렌더링하기 위한 기초 알고리즘을 개발하는 것이기 때문이다. "
   ]
  },
  {
   "cell_type": "code",
   "execution_count": 7,
   "id": "971e6796-32d8-4a59-8b5a-7100e6f181dd",
   "metadata": {
    "scrolled": true
   },
   "outputs": [
    {
     "data": {
      "image/png": "[encoded data removed]",
      "text/plain": [
       "<Figure size 432x288 with 1 Axes>"
      ]
     },
     "metadata": {
      "needs_background": "light"
     },
     "output_type": "display_data"
    }
   ],
   "source": [
    "canvas = Canvas(600,600)\n",
    "canvas.draw_line((-50,-200),(60,240),(0,0,0),2)"
   ]
  },
  {
   "attachments": {},
   "cell_type": "markdown",
   "id": "154ecf3f",
   "metadata": {},
   "source": [
    "<img src = \"https://gabrielgambetta.com/computer-graphics-from-scratch/images/raster-01d.png\" width=\"40%\">"
   ]
  },
  {
   "cell_type": "markdown",
   "id": "1bd820dc",
   "metadata": {},
   "source": [
    "x에 대응되는 하나의 y값만을 계산하여 색칠하기 때문에 위와 같은 결과가 나타난다. "
   ]
  }
 ],
 "metadata": {
  "kernelspec": {
   "display_name": "Python 3",
   "language": "python",
   "name": "python3"
  },
  "language_info": {
   "codemirror_mode": {
    "name": "ipython",
    "version": 3
   },
   "file_extension": ".py",
   "mimetype": "text/x-python",
   "name": "python",
   "nbconvert_exporter": "python",
   "pygments_lexer": "ipython3",
   "version": "3.8.8"
  }
 },
 "nbformat": 4,
 "nbformat_minor": 5
}
