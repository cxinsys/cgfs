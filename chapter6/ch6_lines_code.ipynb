{
 "cells": [
  {
   "cell_type": "code",
   "execution_count": 3,
   "id": "ae40668b",
   "metadata": {},
   "outputs": [],
   "source": [
    "import numpy as np\n",
    "import math\n",
    "import cv2\n",
    "import matplotlib.pyplot as plt"
   ]
  },
  {
   "cell_type": "code",
   "execution_count": 4,
   "id": "0d8a7afc",
   "metadata": {},
   "outputs": [],
   "source": [
    "class Point:\n",
    "    def __init__(self, x, y, color=[255,255,255]):\n",
    "        self.x = x\n",
    "        self.y = y\n",
    "        self.color = color\n",
    "\n",
    "class Canvas:\n",
    "    def __init__(self,\n",
    "                 width=600, \n",
    "                 height=600):\n",
    "        self.width = width\n",
    "        self.height = height\n",
    "        \n",
    "        self.img = np.zeros((width,height,3), dtype = np.uint8) + 255\n",
    "        \n",
    "    def put_pixel(self, x, y, color,line_width):\n",
    "        x = self.width/2 + x\n",
    "        y = self.height/2 - y -1\n",
    "        if (x< 0 or x >= self.width or y < 0 or y >= self.height):\n",
    "            return \n",
    "        R = int(color[0])\n",
    "        G = int(color[1])\n",
    "        B = int(color[2])\n",
    "        cv2.line(self.img, (int(x), int(y)), (int(x), int(y)), (R,G,B),line_width)\n",
    "        \n",
    "    def draw_line(self, p0, p1, color, line_width):\n",
    "        if np.abs(p0.x - p1.x) > abs(p0.y - p1.y):\n",
    "            # line is horizontal-ish\n",
    "            if p0.x > p1.x:\n",
    "                p0, p1 = p1, p0\n",
    "            \n",
    "            ys = self.interpolate(p0.x,p0.y,p1.x,p1.y)\n",
    "\n",
    "            for i in range(p1.x-p0.x+1):\n",
    "                self.put_pixel(i+p0.x,ys[i],color,line_width)\n",
    "                    \n",
    "        else:\n",
    "            # line is vertical-ish\n",
    "                        # line is horizontal-ish\n",
    "            if p0.y > p1.y:\n",
    "                p0, p1 = p1, p0\n",
    "            \n",
    "            xs = self.interpolate(p0.y,p0.x,p1.y,p1.x)\n",
    "            for i in range(p1.y-p0.y+1):\n",
    "                self.put_pixel(xs[i], i+p0.y, color, line_width)\n",
    "                \n",
    "    \n",
    "    def interpolate(self, i0, d0,i1, d1):\n",
    "        if i0==i1:\n",
    "            return [d0]\n",
    "        else:\n",
    "            values = []\n",
    "            \n",
    "            a = (d1-d0) / (i1 - i0)\n",
    "            d = d0\n",
    "            \n",
    "            for i in range(i1 - i0+1):\n",
    "                values.append(d)\n",
    "                d += a\n",
    "            return values"
   ]
  },
  {
   "cell_type": "code",
   "execution_count": 5,
   "id": "fc863792",
   "metadata": {},
   "outputs": [
    {
     "data": {
      "text/plain": [
       "<matplotlib.image.AxesImage at 0x2d598891130>"
      ]
     },
     "execution_count": 5,
     "metadata": {},
     "output_type": "execute_result"
    },
    {
     "data": {
      "image/png": "[encoded data removed]",
      "text/plain": [
       "<Figure size 432x288 with 1 Axes>"
      ]
     },
     "metadata": {
      "needs_background": "light"
     },
     "output_type": "display_data"
    }
   ],
   "source": [
    "canvas = Canvas(600,600)\n",
    "\n",
    "point1 = Point(-200,-100)\n",
    "point2 = Point(240,120)\n",
    "point3 = Point(-50,-200)\n",
    "point4 = Point(60,240)\n",
    "\n",
    "canvas.draw_line(point1, point2, (0,0,0),2)\n",
    "canvas.draw_line(point3, point4, (0,0,0),2)\n",
    "\n",
    "plt.imshow(canvas.img)"
   ]
  }
 ],
 "metadata": {
  "kernelspec": {
   "display_name": "Python 3",
   "language": "python",
   "name": "python3"
  },
  "language_info": {
   "codemirror_mode": {
    "name": "ipython",
    "version": 3
   },
   "file_extension": ".py",
   "mimetype": "text/x-python",
   "name": "python",
   "nbconvert_exporter": "python",
   "pygments_lexer": "ipython3",
   "version": "3.8.8"
  }
 },
 "nbformat": 4,
 "nbformat_minor": 5
}
