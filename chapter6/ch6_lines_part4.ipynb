{
 "cells": [
  {
   "cell_type": "markdown",
   "id": "246afcb4",
   "metadata": {},
   "source": [
    "# Drawing Lines With Any Slope"
   ]
  },
  {
   "cell_type": "markdown",
   "id": "d0522e83",
   "metadata": {},
   "source": [
    "위에서 *y = f(x)* 형태의 함수를 사용하여 선을 표현하였다.\n",
    "\n",
    "이번 기울기를 이용해 선을 그리는 단원에서 \n",
    "x와 y를 교환하여 모든 방정식을 재작업하는 과정을 거친다. \n"
   ]
  },
  {
   "cell_type": "code",
   "execution_count": 3,
   "id": "31f20e16",
   "metadata": {},
   "outputs": [],
   "source": [
    "def DrawLine(P0, P1, color):\n",
    "    if y0 > y1:\n",
    "        swap(P0, P1)\n",
    "    a = (x1 - x0)/(y1 - y0) #기울기 구하기\n",
    "    x = x0\n",
    "    for y in range(y0, y1):\n",
    "        PutPixel(x, y, color)\n",
    "        x = x + a #기울기 더하기\n",
    "\n"
   ]
  },
  {
   "cell_type": "markdown",
   "id": "119fdd31",
   "metadata": {},
   "source": [
    "위 코드의 문제점 수직선을 다룰 수 있고 점과 점 y보다 x가 더 작은 점 사이를 정확하게 그리기 가능\n",
    "\n",
    "**ex)** (0,0) --- (50, 500)\n",
    "\n",
    "**문제점**\n",
    "- 수평선을 그릴 수 없으며 \n",
    "- x가 y보다 더 큰 선을 올바르게 그릴 수 없다.\n",
    "\n",
    "**ex)** (0, 0) --- (500, 50)\n",
    "\n"
   ]
  },
  {
   "cell_type": "code",
   "execution_count": 4,
   "id": "f0ca68d0",
   "metadata": {},
   "outputs": [],
   "source": [
    "def Swap(x, y):\n",
    "    cup = x\n",
    "    x = y\n",
    "    y = cup\n",
    "    \n",
    "def DrawLine(P0, P1, color):\n",
    "    dx=x1-x0\n",
    "    dy=y1-y0\n",
    "    if abs(dx) > abs(dy):\n",
    "        if(x0 > x1):\n",
    "            swap(P0, P1)\n",
    "        a = dy/dx\n",
    "        y = y0\n",
    "        for x in range (x0, x1):\n",
    "            putpixel(x, y, color)\n",
    "            y = y + a\n",
    "    else:\n",
    "        if y0 > y1:\n",
    "            swap(P0, P1)\n",
    "        a = dx/dy\n",
    "        x = x0\n",
    "        for y in range(y0, y1):\n",
    "            putpixel(x, y, color)\n",
    "            x = x + a\n"
   ]
  },
  {
   "cell_type": "markdown",
   "id": "22b1a40d",
   "metadata": {},
   "source": [
    "현재 이 코드에서는 중복이 많고 픽셀 그리기가 중복되는 값들이 많은데 이를 개선해야할 코드라고 한다."
   ]
  },
  {
   "cell_type": "code",
   "execution_count": null,
   "id": "6c77d93a",
   "metadata": {},
   "outputs": [],
   "source": []
  }
 ],
 "metadata": {
  "kernelspec": {
   "display_name": "Python 3",
   "language": "python",
   "name": "python3"
  },
  "language_info": {
   "codemirror_mode": {
    "name": "ipython",
    "version": 3
   },
   "file_extension": ".py",
   "mimetype": "text/x-python",
   "name": "python",
   "nbconvert_exporter": "python",
   "pygments_lexer": "ipython3",
   "version": "3.8.8"
  }
 },
 "nbformat": 4,
 "nbformat_minor": 5
}
