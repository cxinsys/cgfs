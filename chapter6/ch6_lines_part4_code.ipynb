{
 "cells": [
  {
   "cell_type": "markdown",
   "id": "6f37ad48",
   "metadata": {},
   "source": [
    "DRAWING LINES WITH ANY SLOPE\n",
    "\n",
    "기울기를 이용한 선 그리기\n"
   ]
  },
  {
   "cell_type": "code",
   "execution_count": 4,
   "id": "adeacd5a",
   "metadata": {},
   "outputs": [],
   "source": [
    "import numpy as np\n",
    "import math\n",
    "import cv2\n",
    "import matplotlib.pyplot as plt\n"
   ]
  },
  {
   "cell_type": "code",
   "execution_count": 5,
   "id": "c8687e97",
   "metadata": {
    "scrolled": true
   },
   "outputs": [],
   "source": [
    "class Canvas:\n",
    "    def __init__(self,\n",
    "                 width=600, \n",
    "                 height=600):\n",
    "        self.width = width\n",
    "        self.height = height\n",
    "        \n",
    "        self.img = np.zeros((width,height,3), dtype = np.uint8)\n",
    "        \n",
    "    def putpixel(self, x, y, color):\n",
    "        x = self.width/2 + x\n",
    "        y = self.height/2 - y -1\n",
    "        if (x< 0 or x >= self.width or y < 0 or y >= self.height):\n",
    "            return \n",
    "        R = int(color[0])\n",
    "        G = int(color[1])\n",
    "        B = int(color[2])\n",
    "        cv2.line(self.img, (int(x), int(y)), (int(x), int(y)), (R,G,B))\n",
    "        \n",
    "        \n",
    "class Renderer:\n",
    "    '''\n",
    "    Canvas\n",
    "    World\n",
    "    '''\n",
    "    def __init__(self,\n",
    "                canvas,\n",
    "                world,\n",
    "                recursion_depth = 3):\n",
    "        self.canvas = canvas \n",
    "        self.world = world\n",
    "    \n",
    "        self.recursion_depth = recursion_depth\n",
    "    \n",
    "    def render(self, camera_idx=0):\n",
    "        canvas_width = self.canvas.width\n",
    "        canvas_height = self.canvas.height\n",
    "        \n",
    "        x_s = -canvas_width/2\n",
    "        y_s = -canvas_height/2\n",
    "        \n",
    "        for i in range(canvas_width):\n",
    "            for j in range(canvas_height):\n",
    "                curr_x = x_s + i\n",
    "                curr_y = y_s + j\n",
    "                direction = self.canvas2viewport([curr_x, curr_y], camera_idx)\n",
    "                \n",
    "                color = self.traceray(camera_idx, direction)\n",
    "                #color = traceray(camera_position, direction, 1, math.inf)\n",
    "                self.canvas.putpixel(curr_x, curr_y,color)\n",
    "        \n",
    "        plt.imshow(self.canvas.img)\n",
    "        return \n",
    "    \n",
    "    def canvas2viewport(self, point2d, camera_idx):\n",
    "        camera = self.world.cameras[camera_idx]\n",
    "        \n",
    "        viewport_size = camera.viewport_size\n",
    "        canvas_width = self.canvas.width\n",
    "        canvas_height = self.canvas.height\n",
    "        projection_plane_z = camera.projection_plane_z\n",
    "        \n",
    "        return [point2d[0] * viewport_size / canvas_width, point2d[1] * viewport_size / canvas_height, projection_plane_z]\n",
    "    \n",
    "    def traceray(self, camera_idx, direction):\n",
    "        camera = self.world.cameras[camera_idx]\n",
    "        \n",
    "        color = camera.traceray(camera.position,\n",
    "                                direction, \n",
    "                                recursion_depth=self.recursion_depth, \n",
    "                                spheres=self.world.spheres, \n",
    "                                lights = self.world.lights)\n",
    "        \n",
    "        # color = traceray(camera_position, direction, 1, math.inf)\n",
    "        return color"
   ]
  },
  {
   "cell_type": "code",
   "execution_count": 7,
   "id": "9ae7927d",
   "metadata": {},
   "outputs": [],
   "source": [
    "\n",
    "def canvas2viewport(point2d):\n",
    "    return [point2d[0] * viewport_size / canvas_width, point2d[1] * viewport_size / canvas_height, projection_plane_z]\n",
    "\n",
    "canvas_width = 600\n",
    "canvas_height = 600"
   ]
  },
  {
   "cell_type": "code",
   "execution_count": 11,
   "id": "a1ab8576",
   "metadata": {},
   "outputs": [],
   "source": [
    "def DrawLine(P0, P1, color):\n",
    "    if y0 > y1:\n",
    "        swap(P0, P1)\n",
    "    a = (x1 - x0)/(y1 - y0) #기울기 구하기\n",
    "    x = x0\n",
    "    for y in range(y0, y1):\n",
    "        PutPixel(x, y, color)\n",
    "        x = x + a #기울기 더하기\n",
    "\n"
   ]
  },
  {
   "cell_type": "code",
   "execution_count": 12,
   "id": "d7056afc",
   "metadata": {},
   "outputs": [
    {
     "ename": "NameError",
     "evalue": "name 'x' is not defined",
     "output_type": "error",
     "traceback": [
      "\u001b[1;31m---------------------------------------------------------------------------\u001b[0m",
      "\u001b[1;31mNameError\u001b[0m                                 Traceback (most recent call last)",
      "\u001b[1;32m<ipython-input-12-110b3fb892ce>\u001b[0m in \u001b[0;36m<module>\u001b[1;34m\u001b[0m\n\u001b[0;32m     27\u001b[0m \u001b[1;32mfor\u001b[0m \u001b[0mi\u001b[0m \u001b[1;32min\u001b[0m \u001b[0mrange\u001b[0m\u001b[1;33m(\u001b[0m\u001b[0mcanvas_width\u001b[0m\u001b[1;33m)\u001b[0m\u001b[1;33m:\u001b[0m\u001b[1;33m\u001b[0m\u001b[1;33m\u001b[0m\u001b[0m\n\u001b[0;32m     28\u001b[0m     \u001b[1;32mfor\u001b[0m \u001b[0mj\u001b[0m \u001b[1;32min\u001b[0m \u001b[0mrange\u001b[0m\u001b[1;33m(\u001b[0m\u001b[0mcanvas_height\u001b[0m\u001b[1;33m)\u001b[0m\u001b[1;33m:\u001b[0m\u001b[1;33m\u001b[0m\u001b[1;33m\u001b[0m\u001b[0m\n\u001b[1;32m---> 29\u001b[1;33m         \u001b[0mdirection\u001b[0m \u001b[1;33m=\u001b[0m \u001b[0mcanvas2viewport\u001b[0m\u001b[1;33m(\u001b[0m\u001b[1;33m[\u001b[0m\u001b[0mx\u001b[0m\u001b[1;33m,\u001b[0m\u001b[0my\u001b[0m\u001b[1;33m]\u001b[0m\u001b[1;33m)\u001b[0m\u001b[1;33m\u001b[0m\u001b[1;33m\u001b[0m\u001b[0m\n\u001b[0m\u001b[0;32m     30\u001b[0m         \u001b[0mcolor\u001b[0m \u001b[1;33m=\u001b[0m \u001b[0mtraceray\u001b[0m\u001b[1;33m(\u001b[0m\u001b[0mcamera_position\u001b[0m\u001b[1;33m,\u001b[0m \u001b[0mdirection\u001b[0m\u001b[1;33m,\u001b[0m \u001b[1;36m1\u001b[0m\u001b[1;33m,\u001b[0m \u001b[0mmath\u001b[0m\u001b[1;33m.\u001b[0m\u001b[0minf\u001b[0m\u001b[1;33m)\u001b[0m\u001b[1;33m\u001b[0m\u001b[1;33m\u001b[0m\u001b[0m\n\u001b[0;32m     31\u001b[0m         \u001b[0mDrawLine\u001b[0m\u001b[1;33m(\u001b[0m\u001b[0mx\u001b[0m\u001b[1;33m,\u001b[0m\u001b[0my\u001b[0m\u001b[1;33m,\u001b[0m\u001b[0mcolor\u001b[0m\u001b[1;33m)\u001b[0m\u001b[1;33m\u001b[0m\u001b[1;33m\u001b[0m\u001b[0m\n",
      "\u001b[1;31mNameError\u001b[0m: name 'x' is not defined"
     ]
    }
   ],
   "source": [
    "\n",
    "####################################\n",
    "def Swap(x, y):\n",
    "    cup = x\n",
    "    x = y\n",
    "    y = cup\n",
    "    \n",
    "def DrawLine(P0, P1, color):\n",
    "    dx=x1-x0\n",
    "    dy=y1-y0\n",
    "    if abs(dx) > abs(dy):\n",
    "        if(x0 > x1):\n",
    "            swap(P0, P1)\n",
    "        a = dy/dx\n",
    "        y = y0\n",
    "        for x in range (x0, x1):\n",
    "            putpixel(x, y, color)\n",
    "            y = y + a\n",
    "    else:\n",
    "        if y0 > y1:\n",
    "            swap(P0, P1)\n",
    "        a = dx/dy\n",
    "        x = x0\n",
    "        for y in range(y0, y1):\n",
    "            putpixel(x, y, color)\n",
    "            x = x + a\n",
    "\n",
    "for i in range(canvas_width):\n",
    "    for j in range(canvas_height):\n",
    "        direction = canvas2viewport([x,y])\n",
    "        color = traceray(camera_position, direction, 1, math.inf)\n",
    "        DrawLine(x,y,color)\n",
    "        y+=1\n",
    "    y = -canvas_height/2\n",
    "    x+=1\n",
    " \n",
    "plt.imshow(img)\n",
    "\n",
    "#cv2.imshow('Raytracer', img)\n",
    "#cv2.waitKey()\n",
    "#cv2.destoryAllWindows()"
   ]
  },
  {
   "cell_type": "code",
   "execution_count": null,
   "id": "d2a740b3",
   "metadata": {},
   "outputs": [],
   "source": []
  }
 ],
 "metadata": {
  "kernelspec": {
   "display_name": "Python 3",
   "language": "python",
   "name": "python3"
  },
  "language_info": {
   "codemirror_mode": {
    "name": "ipython",
    "version": 3
   },
   "file_extension": ".py",
   "mimetype": "text/x-python",
   "name": "python",
   "nbconvert_exporter": "python",
   "pygments_lexer": "ipython3",
   "version": "3.8.8"
  }
 },
 "nbformat": 4,
 "nbformat_minor": 5
}
