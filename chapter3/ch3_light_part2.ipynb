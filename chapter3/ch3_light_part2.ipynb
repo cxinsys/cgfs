{
 "cells": [
  {
   "cell_type": "markdown",
   "id": "c5b9db0d",
   "metadata": {},
   "source": [
    "# 3. Light"
   ]
  },
  {
   "cell_type": "markdown",
   "id": "1c496894",
   "metadata": {},
   "source": [
    "## The Diffuse Reflection Equation\n",
    "\n",
    "$$I_{P} = I_{A} + \\sum_{i=1}^{n}I_{i}\\frac{\\left \\langle \\vec{N},\\vec{L_{i}} \\right \\rangle}{\\left | \\vec{N} \\right | \\left | \\vec{L_{i}} \\right |}$$\n",
    "\n",
    "cos a < 0 인 경우는 고려하지 않는다."
   ]
  },
  {
   "cell_type": "markdown",
   "id": "a16e05bb",
   "metadata": {},
   "source": [
    "## Sphere Normals\n",
    "\n",
    "![3_6.PNG](./3_6.PNG)\n",
    "\n",
    "법선 벡터를 정하는 것은 복잡한 일이지만 우리는 구의 경우만을 고려할 것이기 때문에 어렵지 않게 법선 벡터를 정할 수 있다.\n",
    "\n",
    "$$\\vec{N} = \\frac{P - C}{\\left | P - C \\right |}$$"
   ]
  },
  {
   "cell_type": "markdown",
   "id": "dea6f4b1",
   "metadata": {},
   "source": [
    "## Rendering with Diffuse Reflection"
   ]
  },
  {
   "cell_type": "code",
   "execution_count": 13,
   "id": "5f3a4dec",
   "metadata": {},
   "outputs": [
    {
     "data": {
      "text/plain": [
       "<matplotlib.image.AxesImage at 0x1687e46b280>"
      ]
     },
     "execution_count": 13,
     "metadata": {},
     "output_type": "execute_result"
    },
    {
     "data": {
      "image/png": "[encoded data removed]",
      "text/plain": [
       "<Figure size 432x288 with 1 Axes>"
      ]
     },
     "metadata": {
      "needs_background": "light"
     },
     "output_type": "display_data"
    }
   ],
   "source": [
    "import numpy as np\n",
    "import math\n",
    "import cv2\n",
    "import matplotlib.pyplot as plt\n",
    "\n",
    "canvas_width = 600\n",
    "canvas_height = 600\n",
    "\n",
    "class Sphere:\n",
    "    def __init__(self, center, radius, color):\n",
    "        self.center = center\n",
    "        self.radius = radius\n",
    "        self.color = color\n",
    "        \n",
    "class Light:\n",
    "    def __init__(self, ltype, intensity, position):\n",
    "        self.ltype = ltype\n",
    "        self.intensity = intensity\n",
    "        self.position = position\n",
    "        \n",
    "AMBIENT = 0\n",
    "POINT = 1\n",
    "DIRECTIONAL = 2\n",
    "\n",
    "viewport_size = 1\n",
    "projection_plane_z = 1\n",
    "camera_position = [0,0,0]\n",
    "background_color = [255,255,255]\n",
    "\n",
    "sphere1 = Sphere([0, -1, 3], 1, [255, 0, 0]) # OpenCv의 경우 RGB 가 아닌 BRG 순서이므로 순서를 조정했다.\n",
    "sphere2 = Sphere([2, 0, 4], 1, [0, 0, 255])\n",
    "sphere3 = Sphere([-2, 0, 4], 1, [0, 255, 0])\n",
    "sphere4 = Sphere([0,-5001,0], 5000, [255, 255, 0])\n",
    "spheres = [sphere1, sphere2, sphere3, sphere4]\n",
    "\n",
    "light1 = Light(AMBIENT, 0.2, None)\n",
    "light2 = Light(POINT, 0.6, [2,1,0])\n",
    "light3 = Light(DIRECTIONAL, 0.2, [1,4,4])\n",
    "lights = [light1, light2, light3]\n",
    "\n",
    "def canvas2viewport(point2d):\n",
    "    return [point2d[0] * viewport_size / canvas_width, point2d[1] * viewport_size / canvas_height, projection_plane_z]\n",
    "\n",
    "def intersect_ray_sphere(origin, direction, sphere):\n",
    "    oc = np.subtract(origin, sphere.center)\n",
    "    \n",
    "    k1 = np.dot(direction, direction)\n",
    "    k2 = 2*np.dot(oc, direction)\n",
    "    k3 = np.dot(oc, oc) - sphere.radius*sphere.radius\n",
    "    \n",
    "    discriminant = k2*k2 - 4*k1*k3\n",
    "    if (discriminant < 0):\n",
    "        return [math.inf, math.inf]\n",
    "    \n",
    "    t1 = (-k2 + math.sqrt(discriminant)) / (2*k1)\n",
    "    t2 = (-k2 - math.sqrt(discriminant)) / (2*k1)\n",
    "    return [t1, t2]\n",
    "\n",
    "def compute_lighting(point, normal):\n",
    "    intensity = 0\n",
    "    length_n = np.linalg.norm(normal)\n",
    "    \n",
    "    for i in range(len(lights)):\n",
    "        light = lights[i]\n",
    "        if (light.ltype == AMBIENT):\n",
    "            intensity += light.intensity\n",
    "        else:\n",
    "            vec_l = []\n",
    "            if (light.ltype == POINT):\n",
    "                vec_l = np.subtract(light.position, point)\n",
    "            else: #DIRECTIONAL\n",
    "                vec_l = light.position\n",
    "            \n",
    "            n_dot_l = np.dot(normal, vec_l)\n",
    "            if (n_dot_l > 0):\n",
    "                intensity += light.intensity * n_dot_l / (length_n * np.linalg.norm(vec_l))\n",
    "    return intensity\n",
    "        \n",
    "\n",
    "def trace_ray(origin, direction, min_t, max_t):\n",
    "    closest_t = math.inf\n",
    "    closest_sphere = None\n",
    "    \n",
    "    for i in range(len(spheres)):\n",
    "        ts = intersect_ray_sphere(origin, direction, spheres[i])\n",
    "        if (ts[0] < closest_t and min_t < ts[0] and ts[0] < max_t):\n",
    "            closest_t = ts[0]\n",
    "            closest_sphere = spheres[i]\n",
    "        if (ts[1] < closest_t and min_t < ts[1] and ts[1] < max_t):\n",
    "            closest_t = ts[1]\n",
    "            closest_sphere = spheres[i]\n",
    "            \n",
    "    if (closest_sphere == None):\n",
    "        return background_color\n",
    "    \n",
    "    point = np.add(origin, np.dot(closest_t, direction))\n",
    "    normal = np.subtract(point, closest_sphere.center)\n",
    "    normal = np.dot(1.0 / np.linalg.norm(normal), normal)\n",
    "    \n",
    "    return np.dot(compute_lighting(point, normal), closest_sphere.color)\n",
    "\n",
    "def put_pixel(x, y, color):\n",
    "    x = canvas_width/2 + x\n",
    "    y = canvas_height/2 - y\n",
    "    if (x< 0 or x >= canvas_width or y < 0 or y >= canvas_height):\n",
    "        return\n",
    "    cv2.line(img, (int(x), int(y)), (int(x), int(y)), (color[0], color[1], color[2]))\n",
    "\n",
    "x = -canvas_width/2\n",
    "y = -canvas_height/2\n",
    "\n",
    "img = np.zeros((canvas_width,canvas_height,3), dtype = np.uint8)\n",
    "\n",
    "for i in range(canvas_width):\n",
    "    for j in range(canvas_height):\n",
    "        direction = canvas2viewport([x,y])\n",
    "        color = trace_ray(camera_position, direction, 1, math.inf)\n",
    "        put_pixel(x,y,color)\n",
    "        y+=1\n",
    "    y = -canvas_height/2\n",
    "    x+=1\n",
    " \n",
    "\n",
    "plt.imshow(img)\n",
    "#cv2.imshow('Raytracer', img)\n",
    "#cv2.waitKey()\n",
    "#cv2.destoryAllWindows()"
   ]
  },
  {
   "cell_type": "markdown",
   "id": "09082d2d",
   "metadata": {},
   "source": [
    "## Specular Reflection\n",
    "\n",
    "유광 물체는 무광 물체와는 다른 방식으로 반사가 일어난다.\n",
    "\n",
    "![3_8.PNG](./3_8.PNG)\n",
    "\n",
    "무광 물체는 표면에서 난반사들이 일어나기 때문에 모든 방향으로 산란된 빛이 퍼지게 된다."
   ]
  },
  {
   "cell_type": "markdown",
   "id": "90b584c9",
   "metadata": {},
   "source": [
    "![image.png](./3_10.jpg)\n",
    "\n",
    "반면 완벽한 유광인 거울의 경우 정반사가 일어난다.\n",
    "\n",
    "![image-2.png](./3_11.jpg)\n",
    "\n",
    "반사된 빛의 벡터를 R이라 할 때, R과 같은 방향이 많을 수록 더 많은 양의 빛이 반사된다.\n",
    "\n",
    "![image-3.png](./3_12.jpg)\n",
    "\n",
    "벡터 V를 view vector라 하자 이는 카메라를 가리키는 벡터이다. a를 R과 V 사이의 각이라 하면 a = 0 일때 모든 빛이 V 방향으로 반사되는 것이고 a = 90 이면 빛이 반사되지 않는 것이다."
   ]
  }
 ],
 "metadata": {
  "kernelspec": {
   "display_name": "Python 3",
   "language": "python",
   "name": "python3"
  },
  "language_info": {
   "codemirror_mode": {
    "name": "ipython",
    "version": 3
   },
   "file_extension": ".py",
   "mimetype": "text/x-python",
   "name": "python",
   "nbconvert_exporter": "python",
   "pygments_lexer": "ipython3",
   "version": "3.8.8"
  }
 },
 "nbformat": 4,
 "nbformat_minor": 5
}
