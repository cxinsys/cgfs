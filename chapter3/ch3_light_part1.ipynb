{
 "cells": [
  {
   "cell_type": "markdown",
   "id": "377054c7",
   "metadata": {},
   "source": [
    "### Simplifying Assumptions"
   ]
  },
  {
   "cell_type": "markdown",
   "id": "45e4f8da",
   "metadata": {},
   "source": [
    "상황을 간단하게 만들기 위한 가정들\n",
    "- 모든 빛은 흰색이다\n",
    "    3가지 색이 있으면 rbg처럼 각각의 세기를 정해야 하지만 단색이면 하나의 숫자로 세기가 표현 되어서 간단하다\n",
    "- 공기를 통과하며 흡수되는 빛은 무시한다.(먼 거리에서 보아도 덜 밝지 않다)"
   ]
  },
  {
   "cell_type": "markdown",
   "id": "70b6beca",
   "metadata": {},
   "source": [
    "### Light Sources"
   ]
  },
  {
   "cell_type": "markdown",
   "id": "2e19c3b6",
   "metadata": {},
   "source": [
    "#### Point Lights\n",
    "\n",
    "Point lights emit light from a fixed point in 3D space, called their position. \\\n",
    "They emit light equally in every direction; this is why they are also called omnidirectional lights. \\\n",
    "A point light is therefore fully described by its position and its intensity.\n",
    "\n",
    "3차원 공간상의 한 점에서 뻗어나오는 빛이다. 모든 방향으로 동일한 빛을 낸다.\\\n",
    "Point Light는 position과 intensity(세기)만으로 표현이 가능하다\n",
    "\n",
    "<img src='https://www.gabrielgambetta.com/computer-graphics-from-scratch/images/05-point-light.png'>"
   ]
  },
  {
   "cell_type": "markdown",
   "id": "d1271074",
   "metadata": {},
   "source": [
    "#### Directional Lights\n",
    "\n",
    "Like point lights, directional lights have an intensity, but unlike them, they don’t have a position; \\\n",
    "instead, they have a fixed direction. \\\n",
    "You can think of them as infinitely distant point lights located in the specified direction.\n",
    "\n",
    "Point Lights와 같이 세기가 있지만, 위치가 아니라 방향으로 표현이 된다.\n",
    "광원이 무한하게 멀리 있는 상황으로 생각할 수 있다. \n",
    "\n",
    "- 태양 표현할 때 사용\n",
    "\n",
    "<img src='https://www.gabrielgambetta.com/computer-graphics-from-scratch/images/05-directional-light.png'>"
   ]
  },
  {
   "cell_type": "markdown",
   "id": "6901a925",
   "metadata": {},
   "source": [
    "#### Ambient Light\n",
    "\n",
    "As mentioned in “Color Models” in Chapter 1 (Introductory Concepts), when light hits an object, part of it is absorbed, but the rest is scattered back into the scene. This means that light can come not only from light sources, but also from objects that get light from light sources and scatter part of it back into the scene.\n",
    "\n",
    "물체에 빛이 닿으면 일부는 흡수되지만, 나머지는 반사되어 물체 또한 빛이 나오게 된다. \\\n",
    "이처럼 모든 물체를 광원으로 볼 수도 있지만 너무 복잡하기 때문에 책에서는 다루지 않는다.\\\n",
    "(global illumination and marvel)\n",
    "\n",
    "\n",
    "위의 방법을 사용하지 않는다고 빛이 직접적으로 닿지 않는 부분을 검정색으로 놔둘 수는 없기 때문에 Ambient Light를 사용한다. \n",
    "- 세기만으로 표현 된다\n",
    "- 공간의 모든 지점에 동일한 량의 빛을 제공한다.\n",
    "\n",
    "In general, a scene will have a single ambient light \\\n",
    "(because ambient lights only have an intensity value, any number of them can be trivially combined into a single ambient light) \\\n",
    "and an arbitrary number of point and directional lights.\n",
    "\n",
    "\n",
    "\n",
    "<br>\n",
    "\n",
    "\n",
    "보통 하나의 scene은 \n",
    "- 1 ambient light\n",
    "- n point light\n",
    "- n directional light \\\n",
    "로 구성된다고 한다."
   ]
  },
  {
   "cell_type": "markdown",
   "id": "181e39f6",
   "metadata": {},
   "source": [
    "### Illumination of a Single Point"
   ]
  },
  {
   "cell_type": "markdown",
   "id": "69acacd5",
   "metadata": {},
   "source": [
    "In order to compute the illumination of a single point, \n",
    "we’ll compute the amount of light contributed by each light source and \n",
    "add them together to get a single number representing the total amount of light the point receives. \n",
    "We can then multiply the color of the surface at that point by \n",
    "this amount to get the shade of color that represents how much light it receives.\n",
    "\n",
    "어느 한 점에서의 빛을 계산 하기 위해서 우리는 각 광원으로 인해 해당지점이 밝혀지는 정도를 계산하고,\n",
    "받는 총 빛을 계산하기 위해서 더한다. \n",
    "그 다음 표면의 색에 빛의 량을 곱한다.\n",
    "\n",
    "We can intuitively classify objects into two broad classes, \n",
    "depending on how they reflect light: “matte” and “shiny” objects. \n",
    "Since most objects around us can be classified as matte, we’ll focus on this group first.\n",
    "\n",
    "정반사가 일어나 반짝이는 물체와 그렇지 않은 물체로 나뉠수 있다. \n",
    "보통을 물체는 반짝이지 않기 떄문에 이 경우를 먼저 알아보기로 한다."
   ]
  },
  {
   "cell_type": "markdown",
   "id": "1c518114",
   "metadata": {},
   "source": [
    "### Diffuse Reflection "
   ]
  },
  {
   "cell_type": "markdown",
   "id": "8162a473",
   "metadata": {},
   "source": [
    "'matte' 한 물체에 빛이 부딪히면 모든 방향으로 동일하게 빛이 산란되고 이것을 'diffused reflection 이라고 부른다. \\\n",
    "이 특성이 'matte'한 물체가 'matte'해보이게 만드는 것이다.\n",
    "\n",
    "이를 검증하기 위해 'matte'한 물체를 다양한 각도에서 보고 밝기가 변하는지 관찰할 수가 있다.\n",
    "\n",
    "이 반사에 대해서 생각할 때는 표면과 광선의 각도가 중요하다, 동일한 에너지의 빛이 더 큰 면적에 퍼지면 \\\n",
    "단위 면적 당 빛이 줄어들어 덜 밝아 진다.\n",
    "\n",
    "<img src='https://www.gabrielgambetta.com/computer-graphics-from-scratch/images/06-light-spread.png'>\n",
    "\n",
    "이것을 수학적으로 탐험해보기 위해 다음과 같이 정의한다.\n",
    "\n",
    "- P: 광선이 도달하는 지점\n",
    "- $\\vec{N}$: P로 부터 표면을 기준으로 수직으로 뻗어나가는 단위벡터"
   ]
  },
  {
   "cell_type": "markdown",
   "id": "7f54150a",
   "metadata": {},
   "source": [
    "### Modeling Diffuse Reflection"
   ]
  },
  {
   "cell_type": "markdown",
   "id": "9ad6aa63",
   "metadata": {},
   "source": [
    "<img src='https://www.gabrielgambetta.com/computer-graphics-from-scratch/images/06-diffuse-diagram.png'>"
   ]
  },
  {
   "cell_type": "markdown",
   "id": "c06c34a8",
   "metadata": {},
   "source": [
    "- I: 빛의 세기이다. 기하적으로 분석하기 위해 광선의 폭과 동일시 한다.\n",
    "- A: 빛이 도달하는 표면의 길이(면적)이다\n",
    "\n",
    "${I \\over A} = {{\\langle \\vec{N}, \\vec{L} \\rangle} \\over {|\\vec{N}||\\vec{L}|}}$"
   ]
  }
 ],
 "metadata": {
  "kernelspec": {
   "display_name": "Python 3",
   "language": "python",
   "name": "python3"
  },
  "language_info": {
   "codemirror_mode": {
    "name": "ipython",
    "version": 3
   },
   "file_extension": ".py",
   "mimetype": "text/x-python",
   "name": "python",
   "nbconvert_exporter": "python",
   "pygments_lexer": "ipython3",
   "version": "3.8.5"
  }
 },
 "nbformat": 4,
 "nbformat_minor": 5
}
